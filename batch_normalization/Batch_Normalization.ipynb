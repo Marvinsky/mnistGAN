{
 "cells": [
  {
   "cell_type": "markdown",
   "metadata": {},
   "source": [
    "# Batch Normalization \n",
    "\n",
    "Batch normalization was introduced in Sergey Ioffe's and Christian Szegedy's 2015 paper [Batch Normalization: Accelerating Deep Network Training by Reducing Internal Covariate Shift](https://arxiv.org/pdf/1502.03167.pdf). The idea is that, instead of just normalizing the inputs to the network, we normalize the inputs to _layers within_ the network. \n",
    "> It's called **batch** normalization because during training, we normalize each layer's inputs by using the mean and variance of the values in the current *batch*."
   ]
  },
  {
   "cell_type": "markdown",
   "metadata": {},
   "source": [
    "## Batch Normalization in PyTorch<a id=\"implementation_1\"></a>\n",
    "\n",
    "This section of the notebook shows you one way to add batch normalization to a neural network built in PyTorch. \n",
    "\n",
    "The following cells import the packages we need in the notebook and load the MNIST dataset to use in our experiments."
   ]
  },
  {
   "cell_type": "code",
   "execution_count": 3,
   "metadata": {},
   "outputs": [
    {
     "name": "stdout",
     "output_type": "stream",
     "text": [
      "Training on GPU\n"
     ]
    }
   ],
   "source": [
    "%matplotlib inline\n",
    "\n",
    "import numpy as np\n",
    "import torch\n",
    "import matplotlib.pyplot as plt\n",
    "\n",
    "train_on_gpu = torch.cuda.is_available()\n",
    "if train_on_gpu:\n",
    "    print(\"Training on GPU\")\n",
    "else:\n",
    "    print(\"Training on CPU\")"
   ]
  },
  {
   "cell_type": "code",
   "execution_count": 4,
   "metadata": {},
   "outputs": [],
   "source": [
    "from torchvision import datasets\n",
    "import torchvision.transforms as transforms\n",
    "\n",
    "# number of subprocesses to use for data loading\n",
    "num_workers = 0\n",
    "# how many samples per batch to load\n",
    "batch_size = 64\n",
    "\n",
    "# convert data to torch.FloatTensor\n",
    "transform = transforms.ToTensor()\n",
    "\n",
    "# get the training and test datasets\n",
    "train_data = datasets.MNIST(root='data', train=True,\n",
    "                            download=True, transform=transform)\n",
    "\n",
    "test_data = datasets.MNIST(root='data', train=False,\n",
    "                           download=True, transform=transform)\n",
    "\n",
    "# prepare data loaders\n",
    "train_loader = torch.utils.data.DataLoader(train_data, batch_size=batch_size,\n",
    "                                           num_workers=num_workers)\n",
    "\n",
    "test_loader = torch.utils.data.DataLoader(test_data, batch_size=batch_size,\n",
    "                                          num_workers=num_workers)"
   ]
  },
  {
   "cell_type": "markdown",
   "metadata": {},
   "source": [
    "### Visualize the data"
   ]
  },
  {
   "cell_type": "code",
   "execution_count": 5,
   "metadata": {},
   "outputs": [
    {
     "name": "stdout",
     "output_type": "stream",
     "text": [
      "(64, 1, 28, 28)\n",
      "(1, 28, 28)\n"
     ]
    },
    {
     "data": {
      "text/plain": [
       "<matplotlib.image.AxesImage at 0x7f3c1b0540b8>"
      ]
     },
     "execution_count": 5,
     "metadata": {},
     "output_type": "execute_result"
    },
    {
     "data": {
      "image/png": "[encoded data removed]",
      "text/plain": [
       "<Figure size 216x216 with 1 Axes>"
      ]
     },
     "metadata": {
      "needs_background": "light"
     },
     "output_type": "display_data"
    }
   ],
   "source": [
    "# obtain one batch of training images\n",
    "dataiter = iter(train_loader)\n",
    "images, labels = dataiter.next()\n",
    "images = images.numpy()\n",
    "\n",
    "# get one image from the batch\n",
    "print(images.shape)\n",
    "print(images[0].shape)\n",
    "img = np.squeeze(images[0])\n",
    "\n",
    "fig = plt.figure(figsize = (3,3)) \n",
    "ax = fig.add_subplot(111)\n",
    "ax.imshow(img, cmap='gray')"
   ]
  },
  {
   "cell_type": "markdown",
   "metadata": {},
   "source": [
    "## Neural network classes for testing\n",
    "\n",
    "The following class, `NeuralNet`, allows us to create identical neural networks **with and without batch normalization** to compare. The code is heavily documented, but there is also some additional discussion later. You do not need to read through it all before going through the rest of the notebook, but the comments within the code blocks may answer some of your questions.\n",
    "\n",
    "*About the code:*\n",
    ">We are defining a simple MLP for classification; this design choice was made to support the discussion related to batch normalization and not to get the best classification accuracy.\n",
    "\n",
    "### (Important) Model Details\n",
    "\n",
    "There are quite a few comments in the code, so those should answer most of your questions. However, let's take a look at the most important lines.\n",
    "\n",
    "We add batch normalization to layers inside the `__init__` function. Here are some important points about that code:\n",
    "1. Layers with batch normalization do **not** include a bias term.\n",
    "2. We use PyTorch's [BatchNorm1d](https://pytorch.org/docs/stable/nn.html#batchnorm1d) function to handle the math. This is the function you use to operate on linear layer outputs; you'll use [BatchNorm2d](https://pytorch.org/docs/stable/nn.html#batchnorm2d) for 2D outputs like filtered images from convolutional layers. \n",
    "3. We add the batch normalization layer **before** calling the activation function.\n"
   ]
  },
  {
   "cell_type": "code",
   "execution_count": 6,
   "metadata": {},
   "outputs": [],
   "source": [
    "import torch.nn as nn\n",
    "import torch.nn.functional as F\n",
    "\n",
    "class NeuralNet(nn.Module):\n",
    "    def __init__(self, use_batch_norm, input_size=784, hidden_dim=256, output_size=10):\n",
    "        \"\"\"\n",
    "        Creates a PyTorch net using the given parameters.\n",
    "        \n",
    "        :param use_batch_norm: bool\n",
    "            Pass True to create a network that uses batch normalization; False otherwise\n",
    "            Note: this network will not use batch normalization on layers that do not have an\n",
    "            activation function.\n",
    "        \"\"\"\n",
    "        super(NeuralNet, self).__init__() # init super\n",
    "        \n",
    "        # Default layer sizes\n",
    "        self.input_size = input_size # (28*28 images)\n",
    "        self.hidden_dim = hidden_dim\n",
    "        self.output_size = output_size # (number of classes)\n",
    "        # Keep track of whether or not this network uses batch normalization.\n",
    "        self.use_batch_norm = use_batch_norm\n",
    "        \n",
    "        # define hidden linear layers, with optional batch norm on their outputs\n",
    "        # layers with batch_norm applied have no bias term\n",
    "        if use_batch_norm:\n",
    "            self.fc1 = nn.Linear(input_size, hidden_dim*2, bias=False)\n",
    "            self.batch_norm1 = nn.BatchNorm1d(hidden_dim*2)\n",
    "        else:\n",
    "            self.fc1 = nn.Linear(input_size, hidden_dim*2)\n",
    "            \n",
    "        # define *second* hidden linear layers, with optional batch norm on their outputs\n",
    "        if use_batch_norm:\n",
    "            self.fc2 = nn.Linear(hidden_dim*2, hidden_dim, bias=False)\n",
    "            self.batch_norm2 = nn.BatchNorm1d(hidden_dim)\n",
    "        else:\n",
    "            self.fc2 = nn.Linear(hidden_dim*2, hidden_dim)\n",
    "        \n",
    "        # third and final, fully-connected layer\n",
    "        self.fc3 = nn.Linear(hidden_dim, output_size)\n",
    "        \n",
    "        \n",
    "    def forward(self, x):\n",
    "        # flatten image\n",
    "        x = x.view(-1, 28*28)\n",
    "        # all hidden layers + optional batch norm + relu activation\n",
    "        x = self.fc1(x)\n",
    "        if self.use_batch_norm:\n",
    "            x = self.batch_norm1(x)\n",
    "        x = F.relu(x)\n",
    "        # second layer\n",
    "        x = self.fc2(x)\n",
    "        if self.use_batch_norm:\n",
    "            x = self.batch_norm2(x)\n",
    "        x = F.relu(x)\n",
    "        # third layer, no batch norm or activation\n",
    "        x = self.fc3(x)\n",
    "        return x\n"
   ]
  },
  {
   "cell_type": "markdown",
   "metadata": {},
   "source": [
    "### Create two different models for testing\n",
    "\n",
    "* `net_batchnorm` is a linear classification model **with** batch normalization applied to the output of its hidden layers\n",
    "* `net_no_norm` is a plain MLP, without batch normalization\n",
    "\n",
    "Besides the normalization layers, everthing about these models is the same."
   ]
  },
  {
   "cell_type": "code",
   "execution_count": 18,
   "metadata": {},
   "outputs": [
    {
     "name": "stdout",
     "output_type": "stream",
     "text": [
      "NeuralNet(\n",
      "  (fc1): Linear(in_features=784, out_features=512, bias=False)\n",
      "  (batch_norm1): BatchNorm1d(512, eps=1e-05, momentum=0.1, affine=True, track_running_stats=True)\n",
      "  (fc2): Linear(in_features=512, out_features=256, bias=False)\n",
      "  (batch_norm2): BatchNorm1d(256, eps=1e-05, momentum=0.1, affine=True, track_running_stats=True)\n",
      "  (fc3): Linear(in_features=256, out_features=10, bias=True)\n",
      ")\n",
      "\n",
      "NeuralNet(\n",
      "  (fc1): Linear(in_features=784, out_features=512, bias=True)\n",
      "  (fc2): Linear(in_features=512, out_features=256, bias=True)\n",
      "  (fc3): Linear(in_features=256, out_features=10, bias=True)\n",
      ")\n"
     ]
    }
   ],
   "source": [
    "net_batchnorm = NeuralNet(use_batch_norm=True)\n",
    "net_no_norm = NeuralNet(use_batch_norm=False)\n",
    "\n",
    "print(net_batchnorm)\n",
    "print()\n",
    "print(net_no_norm)"
   ]
  },
  {
   "cell_type": "markdown",
   "metadata": {
    "collapsed": true
   },
   "source": [
    "---\n",
    "## Training\n",
    "\n",
    "The below `train` function will take in a model and some number of epochs. We'll use cross entropy loss and stochastic gradient descent for optimization. This function returns the losses, recorded after each epoch, so that we can display and compare the behavior of different models.\n",
    "\n",
    "#### `.train()` mode\n",
    "Note that we tell our model whether or not it should be in training mode, `model.train()`. This is an important step because batch normalization has different behavior during training on a batch or testing/evaluating on a larger dataset."
   ]
  },
  {
   "cell_type": "code",
   "execution_count": 19,
   "metadata": {},
   "outputs": [],
   "source": [
    "def train(model, n_epochs=10):\n",
    "    # number of epochs to train the model\n",
    "    n_epochs = n_epochs\n",
    "    # track losses\n",
    "    losses = []\n",
    "        \n",
    "    # optimization strategy \n",
    "    # specify loss function (categorical cross-entropy)\n",
    "    criterion = nn.CrossEntropyLoss()\n",
    "\n",
    "    # specify optimizer (stochastic gradient descent) and learning rate = 0.01\n",
    "    optimizer = torch.optim.SGD(model.parameters(), lr=0.01)\n",
    "\n",
    "    # set the model to training mode\n",
    "    model.train()\n",
    "    \n",
    "    for epoch in range(1, n_epochs+1):\n",
    "        # monitor training loss\n",
    "        train_loss = 0.0\n",
    "\n",
    "        ###################\n",
    "        # train the model #\n",
    "        ###################\n",
    "        batch_count = 0\n",
    "        for batch_idx, (data, target) in enumerate(train_loader):\n",
    "            # clear the gradients of all optimized variables\n",
    "            optimizer.zero_grad()\n",
    "            # forward pass: compute predicted outputs by passing inputs to the model\n",
    "            output = model(data)\n",
    "            # calculate the loss\n",
    "            loss = criterion(output, target)\n",
    "            # backward pass: compute gradient of the loss with respect to model parameters\n",
    "            loss.backward()\n",
    "            # perform a single optimization step (parameter update)\n",
    "            optimizer.step()\n",
    "            # update average training loss\n",
    "            train_loss += loss.item() # add up avg batch loss\n",
    "            batch_count +=1                \n",
    "\n",
    "        # print training statistics \n",
    "        losses.append(train_loss/batch_count)\n",
    "        print('Epoch: {} \\tTraining Loss: {:.6f}'.format(\n",
    "            epoch, \n",
    "            train_loss/batch_count))\n",
    "    \n",
    "    # return all recorded batch losses\n",
    "    return losses\n",
    "        \n",
    "      "
   ]
  },
  {
   "cell_type": "markdown",
   "metadata": {},
   "source": [
    "### Comparing Models\n",
    "\n",
    "In the below cells, we train our two different models and compare their trainining loss over time."
   ]
  },
  {
   "cell_type": "code",
   "execution_count": 20,
   "metadata": {},
   "outputs": [
    {
     "name": "stdout",
     "output_type": "stream",
     "text": [
      "Epoch: 1 \tTraining Loss: 0.562767\n",
      "Epoch: 2 \tTraining Loss: 0.205624\n",
      "Epoch: 3 \tTraining Loss: 0.140564\n",
      "Epoch: 4 \tTraining Loss: 0.105086\n",
      "Epoch: 5 \tTraining Loss: 0.081750\n",
      "Epoch: 6 \tTraining Loss: 0.064916\n",
      "Epoch: 7 \tTraining Loss: 0.052057\n",
      "Epoch: 8 \tTraining Loss: 0.041911\n",
      "Epoch: 9 \tTraining Loss: 0.033850\n",
      "Epoch: 10 \tTraining Loss: 0.027456\n"
     ]
    }
   ],
   "source": [
    "# batchnorm model losses\n",
    "# this may take some time to train\n",
    "losses_batchnorm = train(net_batchnorm)"
   ]
  },
  {
   "cell_type": "code",
   "execution_count": 21,
   "metadata": {},
   "outputs": [
    {
     "name": "stdout",
     "output_type": "stream",
     "text": [
      "Epoch: 1 \tTraining Loss: 1.616284\n",
      "Epoch: 2 \tTraining Loss: 0.527775\n",
      "Epoch: 3 \tTraining Loss: 0.384271\n",
      "Epoch: 4 \tTraining Loss: 0.335612\n",
      "Epoch: 5 \tTraining Loss: 0.306524\n",
      "Epoch: 6 \tTraining Loss: 0.284344\n",
      "Epoch: 7 \tTraining Loss: 0.265434\n",
      "Epoch: 8 \tTraining Loss: 0.248543\n",
      "Epoch: 9 \tTraining Loss: 0.233128\n",
      "Epoch: 10 \tTraining Loss: 0.218991\n"
     ]
    }
   ],
   "source": [
    "# *no* norm model losses\n",
    "# you should already start to see a difference in training losses\n",
    "losses_no_norm = train(net_no_norm)"
   ]
  },
  {
   "cell_type": "code",
   "execution_count": 13,
   "metadata": {},
   "outputs": [
    {
     "data": {
      "text/plain": [
       "<matplotlib.legend.Legend at 0x7f3c186fbb38>"
      ]
     },
     "execution_count": 13,
     "metadata": {},
     "output_type": "execute_result"
    },
    {
     "data": {
      "image/png": "[encoded data removed]",
      "text/plain": [
       "<Figure size 864x576 with 1 Axes>"
      ]
     },
     "metadata": {
      "needs_background": "light"
     },
     "output_type": "display_data"
    }
   ],
   "source": [
    "# compare\n",
    "fig, ax = plt.subplots(figsize=(12,8))\n",
    "#losses_batchnorm = np.array(losses_batchnorm)\n",
    "#losses_no_norm = np.array(losses_no_norm)\n",
    "plt.plot(losses_batchnorm, label='Using batchnorm', alpha=0.5)\n",
    "plt.plot(losses_no_norm, label='No norm', alpha=0.5)\n",
    "plt.title(\"Training Losses\")\n",
    "plt.xlabel(\"NUmber of Epochs\")\n",
    "plt.ylabel(\"Loss Error\")\n",
    "plt.legend()"
   ]
  },
  {
   "cell_type": "code",
   "execution_count": 15,
   "metadata": {},
   "outputs": [
    {
     "name": "stdout",
     "output_type": "stream",
     "text": [
      "NeuralNet(\n",
      "  (fc1): Linear(in_features=784, out_features=512, bias=False)\n",
      "  (batch_norm1): BatchNorm1d(512, eps=1e-05, momentum=0.1, affine=True, track_running_stats=True)\n",
      "  (fc2): Linear(in_features=512, out_features=256, bias=False)\n",
      "  (batch_norm2): BatchNorm1d(256, eps=1e-05, momentum=0.1, affine=True, track_running_stats=True)\n",
      "  (fc3): Linear(in_features=256, out_features=10, bias=True)\n",
      ")\n",
      "\n",
      "NeuralNet(\n",
      "  (fc1): Linear(in_features=784, out_features=512, bias=True)\n",
      "  (fc2): Linear(in_features=512, out_features=256, bias=True)\n",
      "  (fc3): Linear(in_features=256, out_features=10, bias=True)\n",
      ")\n",
      "Epoch: 1 \tTraining Loss: 0.572243\n",
      "Epoch: 2 \tTraining Loss: 0.207815\n",
      "Epoch: 3 \tTraining Loss: 0.142241\n",
      "Epoch: 4 \tTraining Loss: 0.106184\n",
      "Epoch: 5 \tTraining Loss: 0.082524\n",
      "Epoch: 6 \tTraining Loss: 0.065569\n",
      "Epoch: 7 \tTraining Loss: 0.052647\n",
      "Epoch: 8 \tTraining Loss: 0.042555\n",
      "Epoch: 9 \tTraining Loss: 0.034462\n",
      "Epoch: 10 \tTraining Loss: 0.028005\n",
      "Epoch: 11 \tTraining Loss: 0.022831\n",
      "Epoch: 12 \tTraining Loss: 0.018731\n",
      "Epoch: 13 \tTraining Loss: 0.015547\n",
      "Epoch: 14 \tTraining Loss: 0.013024\n",
      "Epoch: 15 \tTraining Loss: 0.011045\n",
      "Epoch: 16 \tTraining Loss: 0.009486\n",
      "Epoch: 17 \tTraining Loss: 0.008256\n",
      "Epoch: 18 \tTraining Loss: 0.007275\n",
      "Epoch: 19 \tTraining Loss: 0.006479\n",
      "Epoch: 20 \tTraining Loss: 0.005815\n",
      "Epoch: 21 \tTraining Loss: 0.005265\n",
      "Epoch: 22 \tTraining Loss: 0.004797\n",
      "Epoch: 23 \tTraining Loss: 0.004399\n",
      "Epoch: 24 \tTraining Loss: 0.004052\n",
      "Epoch: 25 \tTraining Loss: 0.003749\n",
      "Epoch: 26 \tTraining Loss: 0.003479\n",
      "Epoch: 27 \tTraining Loss: 0.003244\n",
      "Epoch: 28 \tTraining Loss: 0.003038\n",
      "Epoch: 29 \tTraining Loss: 0.002855\n",
      "Epoch: 30 \tTraining Loss: 0.002690\n",
      "\n",
      "Epoch: 1 \tTraining Loss: 1.600037\n",
      "Epoch: 2 \tTraining Loss: 0.514951\n",
      "Epoch: 3 \tTraining Loss: 0.376941\n",
      "Epoch: 4 \tTraining Loss: 0.329532\n",
      "Epoch: 5 \tTraining Loss: 0.300687\n",
      "Epoch: 6 \tTraining Loss: 0.278383\n",
      "Epoch: 7 \tTraining Loss: 0.259217\n",
      "Epoch: 8 \tTraining Loss: 0.242112\n",
      "Epoch: 9 \tTraining Loss: 0.226606\n",
      "Epoch: 10 \tTraining Loss: 0.212581\n",
      "Epoch: 11 \tTraining Loss: 0.199878\n",
      "Epoch: 12 \tTraining Loss: 0.188304\n",
      "Epoch: 13 \tTraining Loss: 0.177690\n",
      "Epoch: 14 \tTraining Loss: 0.167954\n",
      "Epoch: 15 \tTraining Loss: 0.159023\n",
      "Epoch: 16 \tTraining Loss: 0.150795\n",
      "Epoch: 17 \tTraining Loss: 0.143206\n",
      "Epoch: 18 \tTraining Loss: 0.136198\n",
      "Epoch: 19 \tTraining Loss: 0.129721\n",
      "Epoch: 20 \tTraining Loss: 0.123732\n",
      "Epoch: 21 \tTraining Loss: 0.118164\n",
      "Epoch: 22 \tTraining Loss: 0.112998\n",
      "Epoch: 23 \tTraining Loss: 0.108167\n",
      "Epoch: 24 \tTraining Loss: 0.103643\n",
      "Epoch: 25 \tTraining Loss: 0.099378\n",
      "Epoch: 26 \tTraining Loss: 0.095371\n",
      "Epoch: 27 \tTraining Loss: 0.091612\n",
      "Epoch: 28 \tTraining Loss: 0.088069\n",
      "Epoch: 29 \tTraining Loss: 0.084712\n",
      "Epoch: 30 \tTraining Loss: 0.081535\n",
      "\n"
     ]
    },
    {
     "data": {
      "text/plain": [
       "<matplotlib.legend.Legend at 0x7f3c18634a20>"
      ]
     },
     "execution_count": 15,
     "metadata": {},
     "output_type": "execute_result"
    },
    {
     "data": {
      "image/png": "[encoded data removed]",
      "text/plain": [
       "<Figure size 864x576 with 1 Axes>"
      ]
     },
     "metadata": {
      "needs_background": "light"
     },
     "output_type": "display_data"
    }
   ],
   "source": [
    "#config1\n",
    "net_batchnorm2 = NeuralNet(use_batch_norm=True)\n",
    "net_no_norm2 = NeuralNet(use_batch_norm=False)\n",
    "\n",
    "print(net_batchnorm2)\n",
    "print()\n",
    "print(net_no_norm2)\n",
    "\n",
    "losses_batchnorm2 = train(net_batchnorm2, 30)\n",
    "print()\n",
    "losses_no_norm2 = train(net_no_norm2, 30)\n",
    "print()\n",
    "# compare\n",
    "fig, ax = plt.subplots(figsize=(12,8))\n",
    "plt.plot(losses_batchnorm2, label='Using batchnorm', alpha=0.5)\n",
    "plt.plot(losses_no_norm2, label='No norm', alpha=0.5)\n",
    "plt.title(\"Training Losses\")\n",
    "plt.xlabel(\"NUmber of Epochs\")\n",
    "plt.ylabel(\"Loss Error\")\n",
    "plt.legend()"
   ]
  },
  {
   "cell_type": "markdown",
   "metadata": {
    "collapsed": true
   },
   "source": [
    "---\n",
    "## Testing\n",
    "\n",
    "You should see that the model with batch normalization, starts off with a lower training loss and, over ten epochs of training, gets to a training loss that is noticeably lower than our model without normalization.\n",
    "\n",
    "Next, let's see how both these models perform on our test data! Below, we have a function `test` that takes in a model and a parameter `train` (True or False) which indicates whether the model should be in training or evaulation mode. This is for comparison purposes, later. This function will calculate some test stastics including the overall test accuracy of a passed in model.\n"
   ]
  },
  {
   "cell_type": "code",
   "execution_count": 16,
   "metadata": {},
   "outputs": [],
   "source": [
    "def test(model, train):\n",
    "    # initialize vars to monitor test loss and accuracy\n",
    "    class_correct = list(0. for i in range(10))\n",
    "    class_total = list(0. for i in range(10))\n",
    "    test_loss = 0.0\n",
    "\n",
    "    # set model to train or evaluation mode\n",
    "    # just to see the difference in behavior\n",
    "    if(train==True):\n",
    "        model.train()\n",
    "    if(train==False):\n",
    "        model.eval()\n",
    "    \n",
    "    # loss criterion\n",
    "    criterion = nn.CrossEntropyLoss()\n",
    "    \n",
    "    for batch_idx, (data, target) in enumerate(test_loader):\n",
    "        batch_size = data.size(0)\n",
    "        # forward pass: compute predicted outputs by passing inputs to the model\n",
    "        output = model(data)\n",
    "        # calculate the loss\n",
    "        loss = criterion(output, target)\n",
    "        # update average test loss \n",
    "        test_loss += loss.item()*batch_size\n",
    "        # convert output probabilities to predicted class\n",
    "        _, pred = torch.max(output, 1)\n",
    "        # compare predictions to true label\n",
    "        correct = np.squeeze(pred.eq(target.data.view_as(pred)))\n",
    "        # calculate test accuracy for each object class\n",
    "        for i in range(batch_size):\n",
    "            label = target.data[i]\n",
    "            class_correct[label] += correct[i].item()\n",
    "            class_total[label] += 1\n",
    "\n",
    "    print('Test Loss: {:.6f}\\n'.format(test_loss/len(test_loader.dataset)))\n",
    "\n",
    "    for i in range(10):\n",
    "        if class_total[i] > 0:\n",
    "            print('Test Accuracy of %5s: %2d%% (%2d/%2d)' % (\n",
    "                str(i), 100 * class_correct[i] / class_total[i],\n",
    "                np.sum(class_correct[i]), np.sum(class_total[i])))\n",
    "        else:\n",
    "            print('Test Accuracy of %5s: N/A (no training examples)' % (classes[i]))\n",
    "\n",
    "    print('\\nTest Accuracy (Overall): %2d%% (%2d/%2d)' % (\n",
    "        100. * np.sum(class_correct) / np.sum(class_total),\n",
    "        np.sum(class_correct), np.sum(class_total)))"
   ]
  },
  {
   "cell_type": "markdown",
   "metadata": {},
   "source": [
    "### Training and Evaluation Mode\n",
    "\n",
    "Setting a model to evaluation mode is important for models with batch normalization layers!\n",
    "\n",
    ">* Training mode means that the batch normalization layers will use **batch** statistics to calculate the batch norm. \n",
    "* Evaluation mode, on the other hand, uses the estimated **population** mean and variance from the entire training set, which should give us increased performance on this test data! "
   ]
  },
  {
   "cell_type": "code",
   "execution_count": 22,
   "metadata": {},
   "outputs": [
    {
     "name": "stdout",
     "output_type": "stream",
     "text": [
      "Test Loss: 0.086127\n",
      "\n",
      "Test Accuracy of     0: 99% (971/980)\n",
      "Test Accuracy of     1: 99% (1126/1135)\n",
      "Test Accuracy of     2: 96% (1001/1032)\n",
      "Test Accuracy of     3: 97% (985/1010)\n",
      "Test Accuracy of     4: 96% (952/982)\n",
      "Test Accuracy of     5: 97% (870/892)\n",
      "Test Accuracy of     6: 97% (932/958)\n",
      "Test Accuracy of     7: 97% (999/1028)\n",
      "Test Accuracy of     8: 96% (941/974)\n",
      "Test Accuracy of     9: 96% (970/1009)\n",
      "\n",
      "Test Accuracy (Overall): 97% (9747/10000)\n"
     ]
    }
   ],
   "source": [
    "# test batchnorm case, in *train* mode\n",
    "test(net_batchnorm, train=True)"
   ]
  },
  {
   "cell_type": "code",
   "execution_count": 23,
   "metadata": {},
   "outputs": [
    {
     "name": "stdout",
     "output_type": "stream",
     "text": [
      "Test Loss: 0.072739\n",
      "\n",
      "Test Accuracy of     0: 99% (972/980)\n",
      "Test Accuracy of     1: 99% (1124/1135)\n",
      "Test Accuracy of     2: 97% (1009/1032)\n",
      "Test Accuracy of     3: 97% (984/1010)\n",
      "Test Accuracy of     4: 97% (956/982)\n",
      "Test Accuracy of     5: 97% (874/892)\n",
      "Test Accuracy of     6: 97% (934/958)\n",
      "Test Accuracy of     7: 96% (996/1028)\n",
      "Test Accuracy of     8: 96% (938/974)\n",
      "Test Accuracy of     9: 98% (991/1009)\n",
      "\n",
      "Test Accuracy (Overall): 97% (9778/10000)\n"
     ]
    }
   ],
   "source": [
    "# test batchnorm case, in *evaluation* mode\n",
    "test(net_batchnorm, train=False)"
   ]
  },
  {
   "cell_type": "code",
   "execution_count": 24,
   "metadata": {},
   "outputs": [
    {
     "name": "stdout",
     "output_type": "stream",
     "text": [
      "Test Loss: 0.212254\n",
      "\n",
      "Test Accuracy of     0: 98% (966/980)\n",
      "Test Accuracy of     1: 98% (1113/1135)\n",
      "Test Accuracy of     2: 91% (940/1032)\n",
      "Test Accuracy of     3: 92% (939/1010)\n",
      "Test Accuracy of     4: 93% (915/982)\n",
      "Test Accuracy of     5: 92% (827/892)\n",
      "Test Accuracy of     6: 94% (908/958)\n",
      "Test Accuracy of     7: 93% (959/1028)\n",
      "Test Accuracy of     8: 90% (886/974)\n",
      "Test Accuracy of     9: 93% (940/1009)\n",
      "\n",
      "Test Accuracy (Overall): 93% (9393/10000)\n"
     ]
    }
   ],
   "source": [
    "# for posterity, test no norm case in eval mode\n",
    "test(net_no_norm, train=False)"
   ]
  },
  {
   "cell_type": "markdown",
   "metadata": {},
   "source": [
    "### Which model has the highest accuracy?\n",
    "\n",
    "You should see a small improvement whe comparing the batch norm model's accuracy in training and evaluation mode; **evaluation mode** should give a small improvement!\n",
    "\n",
    "You should also see that the model that uses batch norm layers shows a marked improvement in overall accuracy when compared with the no-normalization model."
   ]
  },
  {
   "cell_type": "markdown",
   "metadata": {},
   "source": [
    "---\n",
    "# Considerations for other network types\n",
    "\n",
    "This notebook demonstrates batch normalization in a standard neural network with fully connected layers. You can also use batch normalization in other types of networks, but there are some special considerations.\n",
    "\n",
    "### ConvNets\n",
    "\n",
    "Convolution layers consist of multiple feature maps. (Remember, the depth of a convolutional layer refers to its number of feature maps.) And the weights for each feature map are shared across all the inputs that feed into the layer. Because of these differences, batch normalizing convolutional layers requires batch/population mean and variance per feature map rather than per node in the layer.\n",
    "\n",
    "> To apply batch normalization on the outputs of convolutional layers, we use [BatchNorm2d](https://pytorch.org/docs/stable/nn.html#batchnorm2d)\n",
    "\n",
    "\n",
    "### RNNs\n",
    "\n",
    "Batch normalization can work with recurrent neural networks, too, as shown in the 2016 paper [Recurrent Batch Normalization](https://arxiv.org/abs/1603.09025). It's a bit more work to implement, but basically involves calculating the means and variances per time step instead of per layer. You can find an example where someone implemented recurrent batch normalization in PyTorch, in [this GitHub repo](https://github.com/jihunchoi/recurrent-batch-normalization-pytorch)."
   ]
  }
 ],
 "metadata": {
  "kernelspec": {
   "display_name": "Python 3",
   "language": "python",
   "name": "python3"
  },
  "language_info": {
   "codemirror_mode": {
    "name": "ipython",
    "version": 3
   },
   "file_extension": ".py",
   "mimetype": "text/x-python",
   "name": "python",
   "nbconvert_exporter": "python",
   "pygments_lexer": "ipython3",
   "version": "3.6.8"
  }
 },
 "nbformat": 4,
 "nbformat_minor": 2
}
